{
 "cells": [
  {
   "cell_type": "markdown",
   "metadata": {},
   "source": [
    "# Learn to execute\n",
    "\n",
    "``` bash\n",
    "\n",
    "Input: \"535+61\" Output: \"596\"\n",
    "\n",
    "```\n",
    "\n",
    "Inspired by learn to fizzbuzz: http://joelgrus.com/2016/05/23/fizz-buzz-in-tensorflow/\n",
    "\n"
   ]
  },
  {
   "cell_type": "code",
   "execution_count": 14,
   "metadata": {},
   "outputs": [],
   "source": [
    "from __future__ import print_function\n",
    "from keras.models import Sequential\n",
    "from keras.engine.training import slice_X\n",
    "from keras.layers import Activation, TimeDistributed, Dense, RepeatVector, recurrent\n",
    "import numpy as np\n",
    "from six.moves import range"
   ]
  },
  {
   "cell_type": "code",
   "execution_count": 15,
   "metadata": {},
   "outputs": [],
   "source": [
    "class CharacterTable(object):\n",
    "    '''\n",
    "    Given a set of characters:\n",
    "    + Encode them to a one hot integer representation\n",
    "    + Decode the one hot integer representation to their character output\n",
    "    + Decode a vector of probabilities to their character output\n",
    "    '''\n",
    "    def __init__(self, chars, maxlen):\n",
    "        self.chars = sorted(set(chars))\n",
    "        self.char_indices = dict((c, i) for i, c in enumerate(self.chars))\n",
    "        self.indices_char = dict((i, c) for i, c in enumerate(self.chars))\n",
    "        self.maxlen = maxlen\n",
    "\n",
    "    def encode(self, C, maxlen=None):\n",
    "        maxlen = maxlen if maxlen else self.maxlen\n",
    "        X = np.zeros((maxlen, len(self.chars)))\n",
    "        for i, c in enumerate(C):\n",
    "            X[i, self.char_indices[c]] = 1\n",
    "        return X\n",
    "\n",
    "    def decode(self, X, calc_argmax=True):\n",
    "        if calc_argmax:\n",
    "            X = X.argmax(axis=-1)\n",
    "        return ''.join(self.indices_char[x] for x in X)"
   ]
  },
  {
   "cell_type": "code",
   "execution_count": 16,
   "metadata": {},
   "outputs": [],
   "source": [
    "class colors:\n",
    "    ok = '\\033[92m'\n",
    "    fail = '\\033[91m'\n",
    "    close = '\\033[0m'"
   ]
  },
  {
   "cell_type": "code",
   "execution_count": 17,
   "metadata": {},
   "outputs": [],
   "source": [
    "# Parameters for the model and dataset\n",
    "TRAINING_SIZE = 50000\n",
    "DIGITS = 3\n",
    "INVERT = False\n",
    "# Try replacing GRU, or SimpleRNN\n",
    "RNN = recurrent.GRU\n",
    "HIDDEN_SIZE = 128\n",
    "BATCH_SIZE = 128\n",
    "LAYERS = 1\n",
    "MAXLEN = DIGITS + 1 + DIGITS\n",
    "\n",
    "chars = '0123456789+ '\n",
    "ctable = CharacterTable(chars, MAXLEN)\n",
    "\n",
    "questions = []\n",
    "expected = []\n",
    "seen = set()"
   ]
  },
  {
   "cell_type": "code",
   "execution_count": 18,
   "metadata": {},
   "outputs": [
    {
     "name": "stdout",
     "output_type": "stream",
     "text": [
      "Generating data...\n",
      "Total addition questions: 50000\n",
      "CPU times: user 4.62 s, sys: 36.2 ms, total: 4.66 s\n",
      "Wall time: 4.67 s\n"
     ]
    }
   ],
   "source": [
    "%%time\n",
    "\n",
    "#Generating random  numbers to perofrm addition on\n",
    "print('Generating data...')\n",
    "while len(questions) < TRAINING_SIZE:\n",
    "    f = lambda: int(''.join(np.random.choice(list('0123456789')) for i in range(np.random.randint(1, DIGITS + 1))))\n",
    "    a, b = f(), f()\n",
    "    # Skip any addition questions we've already seen\n",
    "    # Also skip any such that X+Y == Y+X (hence the sorting)\n",
    "    key = tuple(sorted((a, b)))\n",
    "    if key in seen:\n",
    "        continue\n",
    "    seen.add(key)\n",
    "    # Pad the data with spaces such that it is always MAXLEN\n",
    "    q = '{}+{}'.format(a, b)\n",
    "    query = q + ' ' * (MAXLEN - len(q))\n",
    "    ans = str(a + b)\n",
    "    # Answers can be of maximum size DIGITS + 1\n",
    "    ans += ' ' * (DIGITS + 1 - len(ans))\n",
    "    if INVERT:\n",
    "        query = query[::-1]\n",
    "    questions.append(query)\n",
    "    expected.append(ans)\n",
    "print('Total addition questions:', len(questions))\n",
    "\n",
    "#We now have 50000 examples of addition, each exaple contains the addition between two numbers\n",
    "#Each example contains the first number followed by '+' operand followed by the second number \n",
    "#examples - 85+96, 353+551, 6+936\n",
    "#The answers to the additon operation are stored in expected"
   ]
  },
  {
   "cell_type": "code",
   "execution_count": 19,
   "metadata": {},
   "outputs": [
    {
     "name": "stdout",
     "output_type": "stream",
     "text": [
      "50000 50000\n",
      "503+8   511 \n"
     ]
    }
   ],
   "source": [
    "print(len(questions), len(expected))\n",
    "print(questions[0], expected[0])"
   ]
  },
  {
   "cell_type": "code",
   "execution_count": 20,
   "metadata": {},
   "outputs": [
    {
     "name": "stdout",
     "output_type": "stream",
     "text": [
      "Vectorization...\n",
      "CPU times: user 337 ms, sys: 9.56 ms, total: 346 ms\n",
      "Wall time: 350 ms\n"
     ]
    }
   ],
   "source": [
    "%%time\n",
    "\n",
    "#The above questions and answers are going to be one hot encoded, \n",
    "#before training.\n",
    "#The encoded values will be used to train the model\n",
    "#The maximum length of a question can be 7 \n",
    "#(3 digits followed by '+' followed by 3 digits)\n",
    "#The maximum length of an answer can be 4 \n",
    "#(Since the addition of 3 digits yields either a 3 digit number or a 4\n",
    "#4 digit number)\n",
    "\n",
    "#Now for training each number or operand is going to be one hot encode below\n",
    "#In one hot encode there are 12 possibilities '0123456789+ ' (The last one is a space)\n",
    "#Since we assume a maximum of 3 digit numbers, a two digit number is taken as space with two digts, or \n",
    "#a single digit number as two spaces with a number\n",
    "\n",
    "#So for questions we get 7 rows since the max possible length is 7, and each row has a length of 12 because it will\n",
    "#be one hot encoded with True and False, depending on the character(any one of the number, '+' operand, or space)\n",
    "#will be stored  in X_train and X_val\n",
    "#The 4th position in(1,2,3,4,5,6,7) will indicate the one hot encoding of the '+' operand\n",
    "\n",
    "##So for questions we get 4 rows since the max possible length is 4, and each row has a length of 12 because it will\n",
    "#be one hot encoded with True and False, depending on the character(any one of the number, '+' operand, or space)\n",
    "#will be stored  in y_train and y_val\n",
    "\n",
    "\n",
    "print('Vectorization...')\n",
    "X = np.zeros((len(questions), MAXLEN, len(chars)), dtype=np.bool)\n",
    "y = np.zeros((len(questions), DIGITS + 1, len(chars)), dtype=np.bool)\n",
    "for i, sentence in enumerate(questions):\n",
    "    X[i] = ctable.encode(sentence, maxlen=MAXLEN)\n",
    "for i, sentence in enumerate(expected):\n",
    "    y[i] = ctable.encode(sentence, maxlen=DIGITS + 1)\n",
    "\n",
    "# Shuffle (X, y) in unison as the later parts of X will almost all be larger digits\n",
    "indices = np.arange(len(y))\n",
    "np.random.shuffle(indices)\n",
    "X = X[indices]\n",
    "y = y[indices]\n",
    "\n",
    "# Explicitly set apart 10% for validation data that we never train over\n",
    "split_at = len(X) - len(X) / 10\n",
    "(X_train, X_val) = (slice_X(X, 0, split_at), slice_X(X, split_at))\n",
    "(y_train, y_val) = (y[:split_at], y[split_at:])"
   ]
  },
  {
   "cell_type": "code",
   "execution_count": 21,
   "metadata": {},
   "outputs": [
    {
     "name": "stdout",
     "output_type": "stream",
     "text": [
      "(50000, 7, 12) (50000, 4, 12)\n"
     ]
    }
   ],
   "source": [
    "print(X.shape, y.shape)"
   ]
  },
  {
   "cell_type": "code",
   "execution_count": 22,
   "metadata": {},
   "outputs": [
    {
     "name": "stdout",
     "output_type": "stream",
     "text": [
      "[[False False False False False False  True False False False False False]\n",
      " [False False False False False False False False  True False False False]\n",
      " [False  True False False False False False False False False False False]\n",
      " [False False False False False  True False False False False False False]\n",
      " [False False False False False False False  True False False False False]\n",
      " [False False False False False False False False False False False  True]\n",
      " [ True False False False False False False False False False False False]]\n",
      "[[False False False False False False  True False False False False False]\n",
      " [False False  True False False False False False False False False False]\n",
      " [False False False False False False False  True False False False False]\n",
      " [ True False False False False False False False False False False False]]\n"
     ]
    }
   ],
   "source": [
    "print(X[0])\n",
    "print\n",
    "print(y[0])"
   ]
  },
  {
   "cell_type": "code",
   "execution_count": 23,
   "metadata": {},
   "outputs": [
    {
     "name": "stdout",
     "output_type": "stream",
     "text": [
      "(45000, 7, 12)\n",
      "(45000, 4, 12)\n",
      "(5000, 7, 12)\n",
      "(5000, 4, 12)\n"
     ]
    }
   ],
   "source": [
    "print(X_train.shape)\n",
    "print(y_train.shape)\n",
    "print(X_val.shape)\n",
    "print(y_val.shape)"
   ]
  },
  {
   "cell_type": "code",
   "execution_count": 24,
   "metadata": {},
   "outputs": [
    {
     "name": "stdout",
     "output_type": "stream",
     "text": [
      "Build model...\n",
      "CPU times: user 120 ms, sys: 33.6 ms, total: 154 ms\n",
      "Wall time: 164 ms\n"
     ]
    }
   ],
   "source": [
    "%%time\n",
    "\n",
    "#Training the model with the encoded inputs\n",
    "print('Build model...')\n",
    "model = Sequential()\n",
    "# \"Encode\" the input sequence using an RNN, producing an output of HIDDEN_SIZE\n",
    "# note: in a situation where your input sequences have a variable length,\n",
    "# use input_shape=(None, nb_feature).\n",
    "model.add(RNN(HIDDEN_SIZE, input_shape=(MAXLEN, len(chars))))\n",
    "# For the decoder's input, we repeat the encoded input for each time step\n",
    "model.add(RepeatVector(DIGITS + 1))\n",
    "# The decoder RNN could be multiple layers stacked or a single layer\n",
    "for _ in range(LAYERS):\n",
    "    model.add(RNN(HIDDEN_SIZE, return_sequences=True))\n",
    "\n",
    "# For each of step of the output sequence, decide which character should be chosen\n",
    "model.add(TimeDistributed(Dense(len(chars))))\n",
    "model.add(Activation('softmax'))"
   ]
  },
  {
   "cell_type": "code",
   "execution_count": 25,
   "metadata": {},
   "outputs": [],
   "source": [
    "from keras.callbacks import EarlyStopping, ModelCheckpoint, RemoteMonitor\n",
    "\n",
    "remote = RemoteMonitor(root='http://localhost:9000')"
   ]
  },
  {
   "cell_type": "code",
   "execution_count": 26,
   "metadata": {},
   "outputs": [
    {
     "name": "stdout",
     "output_type": "stream",
     "text": [
      "Train on 45000 samples, validate on 5000 samples\n",
      "Epoch 1/124\n",
      "Epoch 00000: val_loss improved from inf to 1.79681, saving model to learn-to-execute-progress-dl\n",
      "13s - loss: 1.8327 - acc: 0.3403 - val_loss: 1.7968 - val_acc: 0.3482\n",
      "Epoch 2/124\n",
      "Epoch 00001: val_loss improved from 1.79681 to 1.46504, saving model to learn-to-execute-progress-dl\n",
      "13s - loss: 1.5827 - acc: 0.4130 - val_loss: 1.4650 - val_acc: 0.4511\n",
      "Epoch 3/124\n",
      "Epoch 00002: val_loss improved from 1.46504 to 1.29585, saving model to learn-to-execute-progress-dl\n",
      "13s - loss: 1.3693 - acc: 0.4862 - val_loss: 1.2959 - val_acc: 0.5150\n",
      "Epoch 4/124\n",
      "Epoch 00003: val_loss improved from 1.29585 to 1.12576, saving model to learn-to-execute-progress-dl\n",
      "14s - loss: 1.2009 - acc: 0.5486 - val_loss: 1.1258 - val_acc: 0.5745\n",
      "Epoch 5/124\n",
      "Epoch 00004: val_loss improved from 1.12576 to 0.99550, saving model to learn-to-execute-progress-dl\n",
      "14s - loss: 1.0570 - acc: 0.6034 - val_loss: 0.9955 - val_acc: 0.6305\n",
      "Epoch 6/124\n",
      "Epoch 00005: val_loss improved from 0.99550 to 0.91201, saving model to learn-to-execute-progress-dl\n",
      "14s - loss: 0.9407 - acc: 0.6485 - val_loss: 0.9120 - val_acc: 0.6471\n",
      "Epoch 7/124\n",
      "Epoch 00006: val_loss improved from 0.91201 to 0.78219, saving model to learn-to-execute-progress-dl\n",
      "13s - loss: 0.8259 - acc: 0.6903 - val_loss: 0.7822 - val_acc: 0.6984\n",
      "Epoch 8/124\n",
      "Epoch 00007: val_loss improved from 0.78219 to 0.66774, saving model to learn-to-execute-progress-dl\n",
      "14s - loss: 0.6974 - acc: 0.7364 - val_loss: 0.6677 - val_acc: 0.7452\n",
      "Epoch 9/124\n",
      "Epoch 00008: val_loss improved from 0.66774 to 0.57354, saving model to learn-to-execute-progress-dl\n",
      "14s - loss: 0.5796 - acc: 0.7848 - val_loss: 0.5735 - val_acc: 0.7811\n",
      "Epoch 10/124\n",
      "Epoch 00009: val_loss improved from 0.57354 to 0.47164, saving model to learn-to-execute-progress-dl\n",
      "14s - loss: 0.4877 - acc: 0.8229 - val_loss: 0.4716 - val_acc: 0.8289\n",
      "Epoch 11/124\n",
      "Epoch 00010: val_loss improved from 0.47164 to 0.41165, saving model to learn-to-execute-progress-dl\n",
      "14s - loss: 0.4052 - acc: 0.8546 - val_loss: 0.4117 - val_acc: 0.8429\n",
      "Epoch 12/124\n",
      "Epoch 00011: val_loss improved from 0.41165 to 0.33052, saving model to learn-to-execute-progress-dl\n",
      "14s - loss: 0.3376 - acc: 0.8816 - val_loss: 0.3305 - val_acc: 0.8824\n",
      "Epoch 13/124\n",
      "Epoch 00012: val_loss improved from 0.33052 to 0.25652, saving model to learn-to-execute-progress-dl\n",
      "14s - loss: 0.2841 - acc: 0.9027 - val_loss: 0.2565 - val_acc: 0.9169\n",
      "Epoch 14/124\n",
      "Epoch 00013: val_loss improved from 0.25652 to 0.22634, saving model to learn-to-execute-progress-dl\n",
      "14s - loss: 0.2410 - acc: 0.9199 - val_loss: 0.2263 - val_acc: 0.9264\n",
      "Epoch 15/124\n",
      "Epoch 00014: val_loss improved from 0.22634 to 0.21084, saving model to learn-to-execute-progress-dl\n",
      "13s - loss: 0.2071 - acc: 0.9327 - val_loss: 0.2108 - val_acc: 0.9287\n",
      "Epoch 16/124\n",
      "Epoch 00015: val_loss improved from 0.21084 to 0.16789, saving model to learn-to-execute-progress-dl\n",
      "14s - loss: 0.1793 - acc: 0.9434 - val_loss: 0.1679 - val_acc: 0.9488\n",
      "Epoch 17/124\n",
      "Epoch 00016: val_loss improved from 0.16789 to 0.14320, saving model to learn-to-execute-progress-dl\n",
      "14s - loss: 0.1595 - acc: 0.9506 - val_loss: 0.1432 - val_acc: 0.9570\n",
      "Epoch 18/124\n",
      "Epoch 00017: val_loss did not improve\n",
      "14s - loss: 0.1424 - acc: 0.9572 - val_loss: 0.1809 - val_acc: 0.9351\n",
      "Epoch 19/124\n",
      "Epoch 00018: val_loss improved from 0.14320 to 0.11843, saving model to learn-to-execute-progress-dl\n",
      "14s - loss: 0.1259 - acc: 0.9621 - val_loss: 0.1184 - val_acc: 0.9640\n",
      "Epoch 20/124\n",
      "Epoch 00019: val_loss improved from 0.11843 to 0.10680, saving model to learn-to-execute-progress-dl\n",
      "13s - loss: 0.1149 - acc: 0.9659 - val_loss: 0.1068 - val_acc: 0.9665\n",
      "Epoch 21/124\n",
      "Epoch 00020: val_loss did not improve\n",
      "13s - loss: 0.1040 - acc: 0.9697 - val_loss: 0.1125 - val_acc: 0.9621\n",
      "Epoch 22/124\n",
      "Epoch 00021: val_loss did not improve\n",
      "14s - loss: 0.0949 - acc: 0.9721 - val_loss: 0.2449 - val_acc: 0.9205\n",
      "Epoch 23/124\n",
      "Epoch 00022: val_loss did not improve\n",
      "14s - loss: 0.0886 - acc: 0.9744 - val_loss: 0.1112 - val_acc: 0.9623\n",
      "Epoch 24/124\n",
      "Epoch 00023: val_loss improved from 0.10680 to 0.10100, saving model to learn-to-execute-progress-dl\n",
      "14s - loss: 0.0813 - acc: 0.9764 - val_loss: 0.1010 - val_acc: 0.9664\n",
      "Epoch 25/124\n",
      "Epoch 00024: val_loss did not improve\n",
      "14s - loss: 0.0764 - acc: 0.9780 - val_loss: 0.2463 - val_acc: 0.9182\n",
      "Epoch 26/124\n",
      "Epoch 00025: val_loss improved from 0.10100 to 0.09864, saving model to learn-to-execute-progress-dl\n",
      "14s - loss: 0.0677 - acc: 0.9804 - val_loss: 0.0986 - val_acc: 0.9661\n",
      "Epoch 27/124\n",
      "Epoch 00026: val_loss improved from 0.09864 to 0.07303, saving model to learn-to-execute-progress-dl\n",
      "14s - loss: 0.0669 - acc: 0.9807 - val_loss: 0.0730 - val_acc: 0.9778\n",
      "Epoch 28/124\n",
      "Epoch 00027: val_loss improved from 0.07303 to 0.06012, saving model to learn-to-execute-progress-dl\n",
      "14s - loss: 0.0636 - acc: 0.9820 - val_loss: 0.0601 - val_acc: 0.9806\n",
      "Epoch 29/124\n",
      "Epoch 00028: val_loss did not improve\n",
      "14s - loss: 0.0570 - acc: 0.9838 - val_loss: 0.0697 - val_acc: 0.9757\n",
      "Epoch 30/124\n",
      "Epoch 00029: val_loss did not improve\n",
      "14s - loss: 0.0547 - acc: 0.9848 - val_loss: 0.0933 - val_acc: 0.9684\n",
      "Epoch 31/124\n",
      "Epoch 00030: val_loss did not improve\n",
      "14s - loss: 0.0529 - acc: 0.9847 - val_loss: 0.0693 - val_acc: 0.9755\n",
      "Epoch 32/124\n",
      "Epoch 00031: val_loss did not improve\n",
      "14s - loss: 0.0484 - acc: 0.9864 - val_loss: 0.0912 - val_acc: 0.9697\n",
      "Epoch 33/124\n",
      "Epoch 00032: val_loss did not improve\n",
      "14s - loss: 0.0477 - acc: 0.9865 - val_loss: 0.0610 - val_acc: 0.9787\n",
      "Epoch 34/124\n",
      "Epoch 00033: val_loss improved from 0.06012 to 0.05172, saving model to learn-to-execute-progress-dl\n",
      "14s - loss: 0.0438 - acc: 0.9874 - val_loss: 0.0517 - val_acc: 0.9830\n",
      "Epoch 35/124\n",
      "Epoch 00034: val_loss did not improve\n",
      "14s - loss: 0.0436 - acc: 0.9878 - val_loss: 0.1201 - val_acc: 0.9629\n",
      "Epoch 36/124\n",
      "Epoch 00035: val_loss did not improve\n",
      "13s - loss: 0.0417 - acc: 0.9882 - val_loss: 0.0598 - val_acc: 0.9805\n",
      "Epoch 37/124\n",
      "Epoch 00036: val_loss improved from 0.05172 to 0.04664, saving model to learn-to-execute-progress-dl\n",
      "14s - loss: 0.0401 - acc: 0.9890 - val_loss: 0.0466 - val_acc: 0.9846\n",
      "Epoch 38/124\n",
      "Epoch 00037: val_loss did not improve\n",
      "14s - loss: 0.0386 - acc: 0.9890 - val_loss: 0.0547 - val_acc: 0.9808\n",
      "Epoch 39/124\n",
      "Epoch 00038: val_loss did not improve\n",
      "13s - loss: 0.0341 - acc: 0.9901 - val_loss: 0.0626 - val_acc: 0.9787\n",
      "Epoch 40/124\n",
      "Epoch 00039: val_loss did not improve\n",
      "14s - loss: 0.0356 - acc: 0.9901 - val_loss: 0.0615 - val_acc: 0.9818\n",
      "Epoch 41/124\n",
      "Epoch 00040: val_loss improved from 0.04664 to 0.03983, saving model to learn-to-execute-progress-dl\n",
      "13s - loss: 0.0335 - acc: 0.9904 - val_loss: 0.0398 - val_acc: 0.9865\n",
      "Epoch 42/124\n",
      "Epoch 00041: val_loss did not improve\n",
      "14s - loss: 0.0348 - acc: 0.9905 - val_loss: 0.0488 - val_acc: 0.9843\n",
      "Epoch 43/124\n",
      "Epoch 00042: val_loss improved from 0.03983 to 0.03864, saving model to learn-to-execute-progress-dl\n",
      "14s - loss: 0.0302 - acc: 0.9914 - val_loss: 0.0386 - val_acc: 0.9873\n",
      "Epoch 44/124\n",
      "Epoch 00043: val_loss improved from 0.03864 to 0.03863, saving model to learn-to-execute-progress-dl\n",
      "14s - loss: 0.0318 - acc: 0.9911 - val_loss: 0.0386 - val_acc: 0.9866\n",
      "Epoch 45/124\n",
      "Epoch 00044: val_loss improved from 0.03863 to 0.03768, saving model to learn-to-execute-progress-dl\n",
      "14s - loss: 0.0300 - acc: 0.9918 - val_loss: 0.0377 - val_acc: 0.9876\n",
      "Epoch 46/124\n",
      "Epoch 00045: val_loss did not improve\n",
      "14s - loss: 0.0305 - acc: 0.9919 - val_loss: 0.0465 - val_acc: 0.9845\n",
      "Epoch 47/124\n",
      "Epoch 00046: val_loss did not improve\n",
      "14s - loss: 0.0289 - acc: 0.9917 - val_loss: 0.0387 - val_acc: 0.9870\n",
      "Epoch 48/124\n",
      "Epoch 00047: val_loss did not improve\n",
      "14s - loss: 0.0269 - acc: 0.9927 - val_loss: 0.0769 - val_acc: 0.9757\n",
      "Epoch 49/124\n",
      "Epoch 00048: val_loss did not improve\n",
      "14s - loss: 0.0264 - acc: 0.9924 - val_loss: 0.0386 - val_acc: 0.9863\n",
      "Epoch 50/124\n",
      "Epoch 00049: val_loss did not improve\n",
      "14s - loss: 0.0265 - acc: 0.9928 - val_loss: 0.0675 - val_acc: 0.9795\n",
      "Epoch 51/124\n",
      "Epoch 00050: val_loss did not improve\n",
      "14s - loss: 0.0245 - acc: 0.9933 - val_loss: 0.0465 - val_acc: 0.9837\n",
      "Epoch 52/124\n",
      "Epoch 00051: val_loss did not improve\n",
      "13s - loss: 0.0259 - acc: 0.9929 - val_loss: 0.0515 - val_acc: 0.9845\n",
      "Epoch 53/124\n",
      "Epoch 00052: val_loss did not improve\n",
      "14s - loss: 0.0233 - acc: 0.9935 - val_loss: 0.0512 - val_acc: 0.9835\n",
      "Epoch 54/124\n",
      "Epoch 00053: val_loss improved from 0.03768 to 0.03586, saving model to learn-to-execute-progress-dl\n",
      "14s - loss: 0.0256 - acc: 0.9929 - val_loss: 0.0359 - val_acc: 0.9873\n",
      "Epoch 55/124\n",
      "Epoch 00054: val_loss did not improve\n",
      "14s - loss: 0.0237 - acc: 0.9933 - val_loss: 0.0453 - val_acc: 0.9842\n",
      "Epoch 56/124\n",
      "Epoch 00055: val_loss improved from 0.03586 to 0.03028, saving model to learn-to-execute-progress-dl\n",
      "14s - loss: 0.0220 - acc: 0.9941 - val_loss: 0.0303 - val_acc: 0.9904\n",
      "Epoch 57/124\n",
      "Epoch 00056: val_loss did not improve\n",
      "13s - loss: 0.0226 - acc: 0.9938 - val_loss: 0.0377 - val_acc: 0.9875\n",
      "Epoch 58/124\n",
      "Epoch 00057: val_loss did not improve\n",
      "Warning: could not reach RemoteMonitor root server at http://localhost:9000\n",
      "14s - loss: 0.0218 - acc: 0.9941 - val_loss: 0.0378 - val_acc: 0.9874\n",
      "Epoch 59/124\n",
      "Epoch 00058: val_loss did not improve\n",
      "Warning: could not reach RemoteMonitor root server at http://localhost:9000\n",
      "14s - loss: 0.0203 - acc: 0.9943 - val_loss: 0.0384 - val_acc: 0.9875\n",
      "Epoch 60/124\n",
      "Epoch 00059: val_loss improved from 0.03028 to 0.02572, saving model to learn-to-execute-progress-dl\n",
      "Warning: could not reach RemoteMonitor root server at http://localhost:9000\n",
      "15104s - loss: 0.0196 - acc: 0.9944 - val_loss: 0.0257 - val_acc: 0.9923\n",
      "Epoch 61/124\n",
      "Epoch 00060: val_loss did not improve\n",
      "Warning: could not reach RemoteMonitor root server at http://localhost:9000\n",
      "13s - loss: 0.0190 - acc: 0.9949 - val_loss: 0.0705 - val_acc: 0.9790\n",
      "Epoch 62/124\n",
      "Epoch 00061: val_loss did not improve\n",
      "Warning: could not reach RemoteMonitor root server at http://localhost:9000\n",
      "14s - loss: 0.0210 - acc: 0.9944 - val_loss: 0.0736 - val_acc: 0.9778\n",
      "Epoch 63/124\n",
      "Epoch 00062: val_loss did not improve\n",
      "Warning: could not reach RemoteMonitor root server at http://localhost:9000\n",
      "13s - loss: 0.0186 - acc: 0.9947 - val_loss: 0.0460 - val_acc: 0.9858\n",
      "Epoch 64/124\n",
      "Epoch 00063: val_loss did not improve\n",
      "Warning: could not reach RemoteMonitor root server at http://localhost:9000\n",
      "14s - loss: 0.0209 - acc: 0.9944 - val_loss: 0.0785 - val_acc: 0.9765\n",
      "Epoch 65/124\n",
      "Epoch 00064: val_loss did not improve\n",
      "Warning: could not reach RemoteMonitor root server at http://localhost:9000\n",
      "13s - loss: 0.0184 - acc: 0.9952 - val_loss: 0.0728 - val_acc: 0.9798\n",
      "Epoch 66/124\n",
      "Epoch 00065: val_loss did not improve\n",
      "Warning: could not reach RemoteMonitor root server at http://localhost:9000\n",
      "13s - loss: 0.0173 - acc: 0.9953 - val_loss: 0.0305 - val_acc: 0.9899\n",
      "Epoch 67/124\n",
      "Epoch 00066: val_loss did not improve\n",
      "Warning: could not reach RemoteMonitor root server at http://localhost:9000\n",
      "13s - loss: 0.0169 - acc: 0.9952 - val_loss: 0.1044 - val_acc: 0.9743\n",
      "Epoch 68/124\n",
      "Epoch 00067: val_loss did not improve\n",
      "Warning: could not reach RemoteMonitor root server at http://localhost:9000\n",
      "13s - loss: 0.0165 - acc: 0.9952 - val_loss: 0.0554 - val_acc: 0.9815\n",
      "Epoch 69/124\n",
      "Epoch 00068: val_loss did not improve\n",
      "Warning: could not reach RemoteMonitor root server at http://localhost:9000\n",
      "14s - loss: 0.0172 - acc: 0.9952 - val_loss: 0.0573 - val_acc: 0.9841\n",
      "Epoch 70/124\n",
      "Epoch 00069: val_loss did not improve\n",
      "Warning: could not reach RemoteMonitor root server at http://localhost:9000\n",
      "13s - loss: 0.0165 - acc: 0.9953 - val_loss: 0.0332 - val_acc: 0.9892\n",
      "Epoch 71/124\n",
      "Epoch 00070: val_loss improved from 0.02572 to 0.02404, saving model to learn-to-execute-progress-dl\n",
      "Warning: could not reach RemoteMonitor root server at http://localhost:9000\n",
      "13s - loss: 0.0176 - acc: 0.9951 - val_loss: 0.0240 - val_acc: 0.9923\n",
      "Epoch 72/124\n",
      "Epoch 00071: val_loss did not improve\n",
      "Warning: could not reach RemoteMonitor root server at http://localhost:9000\n",
      "13s - loss: 0.0153 - acc: 0.9956 - val_loss: 0.0517 - val_acc: 0.9852\n",
      "Epoch 73/124\n",
      "Epoch 00072: val_loss did not improve\n",
      "Warning: could not reach RemoteMonitor root server at http://localhost:9000\n",
      "13s - loss: 0.0159 - acc: 0.9953 - val_loss: 0.0262 - val_acc: 0.9914\n",
      "Epoch 74/124\n",
      "Epoch 00073: val_loss did not improve\n",
      "Warning: could not reach RemoteMonitor root server at http://localhost:9000\n",
      "13s - loss: 0.0154 - acc: 0.9958 - val_loss: 0.0244 - val_acc: 0.9911\n",
      "Epoch 75/124\n",
      "Epoch 00074: val_loss did not improve\n",
      "Warning: could not reach RemoteMonitor root server at http://localhost:9000\n",
      "13s - loss: 0.0157 - acc: 0.9958 - val_loss: 0.0249 - val_acc: 0.9917\n",
      "Epoch 76/124\n",
      "Epoch 00075: val_loss did not improve\n",
      "Warning: could not reach RemoteMonitor root server at http://localhost:9000\n",
      "13s - loss: 0.0167 - acc: 0.9956 - val_loss: 0.0298 - val_acc: 0.9909\n",
      "Epoch 77/124\n",
      "Epoch 00076: val_loss improved from 0.02404 to 0.02095, saving model to learn-to-execute-progress-dl\n",
      "Warning: could not reach RemoteMonitor root server at http://localhost:9000\n",
      "14s - loss: 0.0156 - acc: 0.9957 - val_loss: 0.0210 - val_acc: 0.9933\n",
      "Epoch 78/124\n",
      "Epoch 00077: val_loss did not improve\n",
      "Warning: could not reach RemoteMonitor root server at http://localhost:9000\n",
      "14s - loss: 0.0157 - acc: 0.9959 - val_loss: 0.0294 - val_acc: 0.9895\n",
      "Epoch 79/124\n",
      "Epoch 00078: val_loss did not improve\n",
      "Warning: could not reach RemoteMonitor root server at http://localhost:9000\n",
      "13s - loss: 0.0144 - acc: 0.9957 - val_loss: 0.0377 - val_acc: 0.9883\n",
      "Epoch 80/124\n",
      "Epoch 00079: val_loss did not improve\n",
      "Warning: could not reach RemoteMonitor root server at http://localhost:9000\n",
      "13s - loss: 0.0142 - acc: 0.9962 - val_loss: 0.0261 - val_acc: 0.9915\n",
      "Epoch 81/124\n",
      "Epoch 00080: val_loss did not improve\n",
      "Warning: could not reach RemoteMonitor root server at http://localhost:9000\n",
      "13s - loss: 0.0139 - acc: 0.9962 - val_loss: 0.0258 - val_acc: 0.9914\n",
      "Epoch 82/124\n",
      "Epoch 00081: val_loss did not improve\n",
      "Warning: could not reach RemoteMonitor root server at http://localhost:9000\n",
      "13s - loss: 0.0149 - acc: 0.9961 - val_loss: 0.0264 - val_acc: 0.9919\n",
      "Epoch 83/124\n",
      "Epoch 00082: val_loss improved from 0.02095 to 0.01981, saving model to learn-to-execute-progress-dl\n",
      "Warning: could not reach RemoteMonitor root server at http://localhost:9000\n",
      "13s - loss: 0.0133 - acc: 0.9963 - val_loss: 0.0198 - val_acc: 0.9938\n",
      "Epoch 84/124\n",
      "Epoch 00083: val_loss improved from 0.01981 to 0.01852, saving model to learn-to-execute-progress-dl\n",
      "Warning: could not reach RemoteMonitor root server at http://localhost:9000\n",
      "13s - loss: 0.0139 - acc: 0.9962 - val_loss: 0.0185 - val_acc: 0.9936\n",
      "Epoch 85/124\n",
      "Epoch 00084: val_loss did not improve\n",
      "Warning: could not reach RemoteMonitor root server at http://localhost:9000\n",
      "13s - loss: 0.0135 - acc: 0.9964 - val_loss: 0.0395 - val_acc: 0.9885\n",
      "Epoch 86/124\n",
      "Epoch 00085: val_loss did not improve\n",
      "Warning: could not reach RemoteMonitor root server at http://localhost:9000\n",
      "14s - loss: 0.0140 - acc: 0.9963 - val_loss: 0.0276 - val_acc: 0.9904\n",
      "Epoch 87/124\n",
      "Epoch 00086: val_loss did not improve\n",
      "Warning: could not reach RemoteMonitor root server at http://localhost:9000\n",
      "13s - loss: 0.0128 - acc: 0.9966 - val_loss: 0.0627 - val_acc: 0.9813\n",
      "Epoch 88/124\n",
      "Epoch 00087: val_loss improved from 0.01852 to 0.01678, saving model to learn-to-execute-progress-dl\n",
      "Warning: could not reach RemoteMonitor root server at http://localhost:9000\n",
      "14s - loss: 0.0126 - acc: 0.9964 - val_loss: 0.0168 - val_acc: 0.9949\n",
      "Epoch 89/124\n",
      "Epoch 00088: val_loss did not improve\n",
      "Warning: could not reach RemoteMonitor root server at http://localhost:9000\n",
      "13s - loss: 0.0124 - acc: 0.9965 - val_loss: 0.0401 - val_acc: 0.9872\n",
      "Epoch 90/124\n",
      "Epoch 00089: val_loss did not improve\n",
      "Warning: could not reach RemoteMonitor root server at http://localhost:9000\n",
      "13s - loss: 0.0127 - acc: 0.9966 - val_loss: 0.0263 - val_acc: 0.9921\n",
      "Epoch 91/124\n",
      "Epoch 00090: val_loss did not improve\n",
      "Warning: could not reach RemoteMonitor root server at http://localhost:9000\n",
      "13s - loss: 0.0114 - acc: 0.9967 - val_loss: 0.0347 - val_acc: 0.9887\n",
      "Epoch 92/124\n",
      "Epoch 00091: val_loss did not improve\n",
      "Warning: could not reach RemoteMonitor root server at http://localhost:9000\n",
      "13s - loss: 0.0131 - acc: 0.9965 - val_loss: 0.0513 - val_acc: 0.9847\n",
      "Epoch 93/124\n",
      "Epoch 00092: val_loss did not improve\n",
      "Warning: could not reach RemoteMonitor root server at http://localhost:9000\n",
      "13s - loss: 0.0123 - acc: 0.9965 - val_loss: 0.0257 - val_acc: 0.9912\n",
      "Epoch 94/124\n",
      "Epoch 00093: val_loss did not improve\n",
      "Warning: could not reach RemoteMonitor root server at http://localhost:9000\n",
      "13s - loss: 0.0121 - acc: 0.9968 - val_loss: 0.0216 - val_acc: 0.9929\n",
      "Epoch 95/124\n",
      "Epoch 00094: val_loss did not improve\n",
      "Warning: could not reach RemoteMonitor root server at http://localhost:9000\n",
      "13s - loss: 0.0128 - acc: 0.9965 - val_loss: 0.0242 - val_acc: 0.9922\n",
      "Epoch 96/124\n",
      "Epoch 00095: val_loss did not improve\n",
      "Warning: could not reach RemoteMonitor root server at http://localhost:9000\n",
      "13s - loss: 0.0108 - acc: 0.9970 - val_loss: 0.0184 - val_acc: 0.9940\n",
      "Epoch 97/124\n",
      "Epoch 00096: val_loss did not improve\n",
      "Warning: could not reach RemoteMonitor root server at http://localhost:9000\n",
      "14s - loss: 0.0113 - acc: 0.9968 - val_loss: 0.0194 - val_acc: 0.9935\n",
      "Epoch 98/124\n",
      "Epoch 00097: val_loss did not improve\n",
      "Warning: could not reach RemoteMonitor root server at http://localhost:9000\n",
      "14s - loss: 0.0107 - acc: 0.9970 - val_loss: 0.0298 - val_acc: 0.9891\n",
      "Epoch 99/124\n",
      "Epoch 00098: early stopping\n",
      "Epoch 00098: val_loss did not improve\n",
      "Warning: could not reach RemoteMonitor root server at http://localhost:9000\n",
      "14s - loss: 0.0103 - acc: 0.9972 - val_loss: 0.0170 - val_acc: 0.9941\n"
     ]
    }
   ],
   "source": [
    "# compile and run\n",
    "model.compile(loss='categorical_crossentropy', optimizer='rmsprop', metrics=['accuracy'])\n",
    "\n",
    "result = model.fit(X_train, y_train,\n",
    "          batch_size=BATCH_SIZE,\n",
    "          nb_epoch=124,\n",
    "          validation_data=(X_val, y_val),\n",
    "          verbose=2,\n",
    "          callbacks = [\n",
    "                         EarlyStopping(verbose=True, patience=10, monitor='val_loss'),\n",
    "                         ModelCheckpoint('{}-progress-dl'.format(\"learn-to-execute\"), monitor='val_loss', verbose=True, save_best_only=True), remote],\n",
    "         )"
   ]
  },
  {
   "cell_type": "code",
   "execution_count": 27,
   "metadata": {},
   "outputs": [
    {
     "name": "stdout",
     "output_type": "stream",
     "text": [
      "End at 99 epoch\n"
     ]
    }
   ],
   "source": [
    "nb_end_epoch = len(result.history['acc'])\n",
    "print(\"End at {} epoch\".format(nb_end_epoch))"
   ]
  },
  {
   "cell_type": "code",
   "execution_count": 28,
   "metadata": {},
   "outputs": [],
   "source": [
    "TARGET_NAME = \"learn-to-execute\""
   ]
  },
  {
   "cell_type": "code",
   "execution_count": 29,
   "metadata": {},
   "outputs": [],
   "source": [
    "from sklearn import metrics\n",
    "from keras.utils import np_utils"
   ]
  },
  {
   "cell_type": "code",
   "execution_count": 30,
   "metadata": {},
   "outputs": [
    {
     "name": "stdout",
     "output_type": "stream",
     "text": [
      "\n",
      "\n",
      "Test score: 0.0167780931439\n",
      "Test accuracy: 0.99485\n"
     ]
    }
   ],
   "source": [
    "# -- load in best network\n",
    "model.load_weights('{}-progress-dl'.format(TARGET_NAME))\n",
    "score = model.evaluate(X_val, y_val, verbose=0)\n",
    "print('\\n')\n",
    "print('Test score:', score[0])\n",
    "print('Test accuracy:', score[1])"
   ]
  },
  {
   "cell_type": "code",
   "execution_count": 31,
   "metadata": {},
   "outputs": [],
   "source": [
    "from matplotlib import pyplot as plt\n",
    "import matplotlib.image as mpimg\n",
    "from matplotlib import rc\n",
    "%matplotlib inline\n",
    "plt.style.use(\"ggplot\")\n",
    "\n",
    "from IPython.display import SVG, display\n",
    "from keras.utils.visualize_util import model_to_dot, plot"
   ]
  },
  {
   "cell_type": "code",
   "execution_count": 32,
   "metadata": {},
   "outputs": [
    {
     "data": {
      "image/png": "[encoded data removed]",
      "text/plain": [
       "<matplotlib.figure.Figure at 0x115c5ff10>"
      ]
     },
     "metadata": {},
     "output_type": "display_data"
    }
   ],
   "source": [
    "x = range(nb_end_epoch)\n",
    "fix, ax = plt.subplots(figsize=(10, 4))\n",
    "plt.suptitle('Loss and Accuracy GRU')\n",
    "plt.subplot(1, 2, 1)\n",
    "plt.plot(x, result.history['acc'], label=\"train acc\")\n",
    "plt.plot(x, result.history['val_acc'], label=\"val acc\")\n",
    "plt.legend(loc='best', bbox_to_anchor=(1, 0.5))\n",
    "plt.title(\"Accuracy plot\");\n",
    "plt.subplot(1, 2, 2)\n",
    "plt.plot(x, result.history['loss'], label=\"train loss\")\n",
    "plt.plot(x, result.history['val_loss'], label=\"val loss\")\n",
    "plt.legend(loc='best', bbox_to_anchor=(1,0.5))\n",
    "plt.title(\"Loss plot\");\n",
    "plt.show()"
   ]
  },
  {
   "cell_type": "code",
   "execution_count": 33,
   "metadata": {},
   "outputs": [],
   "source": [
    "import h5py\n",
    "import json\n",
    "from keras.models import model_from_json, load_model"
   ]
  },
  {
   "cell_type": "code",
   "execution_count": 34,
   "metadata": {},
   "outputs": [
    {
     "name": "stdout",
     "output_type": "stream",
     "text": [
      "____________________________________________________________________________________________________\n",
      "Layer (type)                     Output Shape          Param #     Connected to                     \n",
      "====================================================================================================\n",
      "gru_3 (GRU)                      (None, 128)           54144       gru_input_2[0][0]                \n",
      "____________________________________________________________________________________________________\n",
      "repeatvector_2 (RepeatVector)    (None, 4, 128)        0           gru_3[0][0]                      \n",
      "____________________________________________________________________________________________________\n",
      "gru_4 (GRU)                      (None, 4, 128)        98688       repeatvector_2[0][0]             \n",
      "____________________________________________________________________________________________________\n",
      "timedistributed_2 (TimeDistribute(None, 4, 12)         1548        gru_4[0][0]                      \n",
      "____________________________________________________________________________________________________\n",
      "activation_2 (Activation)        (None, 4, 12)         0           timedistributed_2[0][0]          \n",
      "====================================================================================================\n",
      "Total params: 154380\n",
      "____________________________________________________________________________________________________\n"
     ]
    }
   ],
   "source": [
    "model.summary()"
   ]
  },
  {
   "cell_type": "code",
   "execution_count": 35,
   "metadata": {},
   "outputs": [],
   "source": [
    "model.save(\"./{}.h5\".format(TARGET_NAME))"
   ]
  },
  {
   "cell_type": "markdown",
   "metadata": {},
   "source": [
    "# Sanity check"
   ]
  },
  {
   "cell_type": "code",
   "execution_count": 36,
   "metadata": {},
   "outputs": [
    {
     "name": "stdout",
     "output_type": "stream",
     "text": [
      "Q 85+442 \n",
      "T 527 \n",
      "\u001b[92m☑\u001b[0m 527 \n",
      "---\n",
      "Q 940+0  \n",
      "T 940 \n",
      "\u001b[92m☑\u001b[0m 940 \n",
      "---\n",
      "Q 816+5  \n",
      "T 821 \n",
      "\u001b[92m☑\u001b[0m 821 \n",
      "---\n",
      "Q 66+506 \n",
      "T 572 \n",
      "\u001b[92m☑\u001b[0m 572 \n",
      "---\n",
      "Q 859+434\n",
      "T 1293\n",
      "\u001b[92m☑\u001b[0m 1293\n",
      "---\n",
      "Q 99+916 \n",
      "T 1015\n",
      "\u001b[92m☑\u001b[0m 1015\n",
      "---\n",
      "Q 720+9  \n",
      "T 729 \n",
      "\u001b[92m☑\u001b[0m 729 \n",
      "---\n",
      "Q 152+7  \n",
      "T 159 \n",
      "\u001b[92m☑\u001b[0m 159 \n",
      "---\n",
      "Q 542+85 \n",
      "T 627 \n",
      "\u001b[92m☑\u001b[0m 627 \n",
      "---\n",
      "Q 8+454  \n",
      "T 462 \n",
      "\u001b[92m☑\u001b[0m 462 \n",
      "---\n",
      "CPU times: user 1.53 s, sys: 403 ms, total: 1.94 s\n",
      "Wall time: 1.97 s\n"
     ]
    }
   ],
   "source": [
    "%%time\n",
    "\n",
    "#For predicting the outputs, the predict method will return \n",
    "#an one hot encoded ouput, we decode the one hot encoded \n",
    "#ouptut to get our final output\n",
    "\n",
    "# Select 10 samples from the validation set at random so we can visualize errors\n",
    "for i in range(10):\n",
    "    ind = np.random.randint(0, len(X_val))\n",
    "    rowX, rowy = X_val[np.array([ind])], y_val[np.array([ind])]\n",
    "    preds = model.predict_classes(rowX, verbose=0)\n",
    "    q = ctable.decode(rowX[0])\n",
    "    correct = ctable.decode(rowy[0])\n",
    "    guess = ctable.decode(preds[0], calc_argmax=False)\n",
    "    print('Q', q[::-1] if INVERT else q)\n",
    "    print('T', correct)\n",
    "    print(colors.ok + '☑' + colors.close if correct == guess else colors.fail + '☒' + colors.close, guess)\n",
    "    print('---')"
   ]
  },
  {
   "cell_type": "code",
   "execution_count": 37,
   "metadata": {},
   "outputs": [
    {
     "name": "stdout",
     "output_type": "stream",
     "text": [
      "Q 123+897\n",
      "T 1020\n",
      "\u001b[92m☑\u001b[0m 1020\n",
      "---\n"
     ]
    }
   ],
   "source": [
    "# kindergarten\n",
    "q='1+1'\n",
    "a='2'\n",
    "\n",
    "# primary school\n",
    "q='23+75'\n",
    "a='98'\n",
    "\n",
    "# high school\n",
    "q='127+249'\n",
    "a='376'\n",
    "\n",
    "# university\n",
    "q='123+897'\n",
    "a='1020'\n",
    "\n",
    "xq = ctable.encode(\"{:7s}\".format(q), maxlen=MAXLEN)\n",
    "xa = ctable.encode(\"{:4s}\".format(a), maxlen=MAXLEN+1)\n",
    "\n",
    "preds = model.predict_classes(np.asarray([xq]), verbose=0)\n",
    "guess = ctable.decode(preds[0], calc_argmax=False)\n",
    "print('Q', q)\n",
    "print('T', a)\n",
    "print(colors.ok + '☑' + colors.close if a.strip() == guess.strip() else colors.fail + '☒' + colors.close, guess)\n",
    "print('---')"
   ]
  },
  {
   "cell_type": "code",
   "execution_count": null,
   "metadata": {},
   "outputs": [],
   "source": [
    "import re\n",
    "\n",
    "def fix_math(q, model=model):\n",
    "    xq = re.findall(r'\\d+\\+\\d+', q)\n",
    "    if xq:\n",
    "        xq = xq[0]\n",
    "        xq = ctable.encode(\"{:7s}\".format(q), maxlen=MAXLEN)\n",
    "        preds = model.predict_classes(np.asarray([xq]), verbose=0)\n",
    "        guess = ctable.decode(preds[0], calc_argmax=False)\n",
    "        return u\"👻 \\033[35mI guess: \" + guess.strip() + \"\\033[0m\"\n",
    "    else:\n",
    "        return u\"👻 \\033[91mGive me correct summation, LOL!!!\\033[0m\""
   ]
  },
  {
   "cell_type": "code",
   "execution_count": null,
   "metadata": {},
   "outputs": [],
   "source": [
    "print(fix_math(\"12+23\"))"
   ]
  },
  {
   "cell_type": "code",
   "execution_count": null,
   "metadata": {},
   "outputs": [],
   "source": [
    "print(fix_math(\"\"))"
   ]
  },
  {
   "cell_type": "code",
   "execution_count": null,
   "metadata": {},
   "outputs": [],
   "source": []
  }
 ],
 "metadata": {
  "kernelspec": {
   "display_name": "Python 2",
   "language": "python",
   "name": "python2"
  },
  "language_info": {
   "codemirror_mode": {
    "name": "ipython",
    "version": 2
   },
   "file_extension": ".py",
   "mimetype": "text/x-python",
   "name": "python",
   "nbconvert_exporter": "python",
   "pygments_lexer": "ipython2",
   "version": "2.7.10"
  }
 },
 "nbformat": 4,
 "nbformat_minor": 0
}
